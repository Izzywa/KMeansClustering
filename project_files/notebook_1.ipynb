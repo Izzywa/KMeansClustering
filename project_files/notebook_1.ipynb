{
 "cells": [
  {
   "cell_type": "markdown",
   "metadata": {},
   "source": [
    "# This notebook is ready for your projects and experiments\n",
    "\n",
    "Go ahead and code!"
   ]
  },
  {
   "cell_type": "code",
   "execution_count": 12,
   "metadata": {},
   "outputs": [
    {
     "name": "stdout",
     "output_type": "stream",
     "text": [
      "[54 41 90]\n"
     ]
    }
   ],
   "source": [
    "import numpy as np\n",
    "\n",
    "random = np.random.randint(1,100, size=3)\n",
    "\n",
    "print(random)"
   ]
  },
  {
   "cell_type": "code",
   "execution_count": 17,
   "metadata": {},
   "outputs": [
    {
     "name": "stdout",
     "output_type": "stream",
     "text": [
      "90\n"
     ]
    }
   ],
   "source": [
    "print(random[-1])"
   ]
  },
  {
   "cell_type": "code",
   "execution_count": 21,
   "metadata": {},
   "outputs": [
    {
     "data": {
      "image/png": "[encoded data removed]",
      "text/plain": [
       "<Figure size 432x288 with 1 Axes>"
      ]
     },
     "metadata": {},
     "output_type": "display_data"
    }
   ],
   "source": [
    "import matplotlib.pyplot as plt\n",
    "import numpy as np\n",
    "\n",
    "N = 10\n",
    "x = np.random.rand(N)\n",
    "y = np.random.rand(N)\n",
    "\n",
    "# creating a scatter plot with the size of the point and colour\n",
    "# corresponds to the x value \n",
    "plt.scatter(x,y, s=((50 * x) ** 2), c=y, cmap='autumn_r', alpha=0.8)\n",
    "plt.show()"
   ]
  },
  {
   "cell_type": "code",
   "execution_count": 30,
   "metadata": {},
   "outputs": [
    {
     "name": "stdout",
     "output_type": "stream",
     "text": [
      "[2 4 6]\n"
     ]
    }
   ],
   "source": [
    "import numpy as np\n",
    "\n",
    "data = [[1,2], [3,4], [5,6]]\n",
    "data = np.array(data)\n",
    "\n",
    "print(data[:,-1])"
   ]
  },
  {
   "cell_type": "code",
   "execution_count": 31,
   "metadata": {},
   "outputs": [
    {
     "data": {
      "text/plain": [
       "3.5"
      ]
     },
     "execution_count": 31,
     "metadata": {},
     "output_type": "execute_result"
    }
   ],
   "source": [
    "np.mean(data)\n",
    "# this returns the mean of all the value in the array"
   ]
  },
  {
   "cell_type": "code",
   "execution_count": 32,
   "metadata": {},
   "outputs": [
    {
     "data": {
      "text/plain": [
       "array([3., 4.])"
      ]
     },
     "execution_count": 32,
     "metadata": {},
     "output_type": "execute_result"
    }
   ],
   "source": [
    "np.mean(data, 0)\n",
    "# this returns the mean of the array column-wise"
   ]
  },
  {
   "cell_type": "code",
   "execution_count": 1,
   "metadata": {},
   "outputs": [
    {
     "ename": "NameError",
     "evalue": "name 'np' is not defined",
     "output_type": "error",
     "traceback": [
      "\u001b[0;31m---------------------------------------------------------------------------\u001b[0m",
      "\u001b[0;31mNameError\u001b[0m                                 Traceback (most recent call last)",
      "\u001b[0;32m<ipython-input-1-402422d033f0>\u001b[0m in \u001b[0;36m<module>\u001b[0;34m()\u001b[0m\n\u001b[0;32m----> 1\u001b[0;31m \u001b[0mnp\u001b[0m\u001b[0;34m.\u001b[0m\u001b[0mmean\u001b[0m\u001b[0;34m(\u001b[0m\u001b[0mrand_matrix\u001b[0m\u001b[0;34m,\u001b[0m \u001b[0;36m0\u001b[0m\u001b[0;34m)\u001b[0m\u001b[0;34m\u001b[0m\u001b[0m\n\u001b[0m",
      "\u001b[0;31mNameError\u001b[0m: name 'np' is not defined"
     ]
    }
   ],
   "source": []
  },
  {
   "cell_type": "code",
   "execution_count": 2,
   "metadata": {},
   "outputs": [
    {
     "data": {
      "image/png": "[encoded data removed]",
      "text/plain": [
       "<Figure size 432x288 with 1 Axes>"
      ]
     },
     "metadata": {},
     "output_type": "display_data"
    }
   ],
   "source": [
    "import matplotlib.pyplot as plt\n",
    "import matplotlib.patches as patches\n",
    "import numpy as np\n",
    "\n",
    "X = 5\n",
    "Y = 5\n",
    "rand_matrix = np.random.rand(X, Y)\n",
    "\n",
    "x_mean = rand_matrix.mean(0)\n",
    "x_std = rand_matrix.std(0)\n",
    "# ellipse defines the size of the std with the mean in the centre\n",
    "ellipse = patches.Ellipse(\n",
    "    [x_mean[0], x_mean[1]], \n",
    "    x_std[0]*2, \n",
    "    x_std[1]*2,\n",
    "    alpha=0.5,\n",
    "    facecolor=\"tab:pink\"\n",
    ")\n",
    "\n",
    "fig, graph = plt.subplots()\n",
    "\n",
    "graph.scatter(x_mean[0], x_mean[1], c=\"r\")\n",
    "graph.scatter(rand_matrix[:,0], rand_matrix[:,1], c='c')\n",
    "graph.add_patch(ellipse)\n",
    "\n",
    "plt.show()"
   ]
  },
  {
   "cell_type": "code",
   "execution_count": 3,
   "metadata": {},
   "outputs": [
    {
     "name": "stdout",
     "output_type": "stream",
     "text": [
      "[[0.6904851  0.4545383  0.72176888 0.80116016 0.46482689]\n",
      " [0.12700557 0.85129142 0.50593039 0.8834961  0.08550401]\n",
      " [0.18147378 0.92526741 0.5371423  0.7018584  0.88077184]\n",
      " [0.21177591 0.14126619 0.71600508 0.6330566  0.3437628 ]\n",
      " [0.28295116 0.9564477  0.30725567 0.84045564 0.64090888]]\n"
     ]
    }
   ],
   "source": [
    "print(rand_matrix)"
   ]
  },
  {
   "cell_type": "code",
   "execution_count": 6,
   "metadata": {},
   "outputs": [
    {
     "name": "stdout",
     "output_type": "stream",
     "text": [
      "[0.47561718819119675, 0.486971750590639, 0.4945028991712128, 0.5886264742957441, 0.42071556162990364]\n"
     ]
    }
   ],
   "source": [
    "dist_to_mean = [np.linalg.norm(rand_matrix_point - x_mean) for rand_matrix_point in rand_matrix]\n",
    "# this calculate the distance from the mean for each point\n",
    "\n",
    "print(dist_to_mean)"
   ]
  },
  {
   "cell_type": "code",
   "execution_count": 8,
   "metadata": {},
   "outputs": [
    {
     "name": "stdout",
     "output_type": "stream",
     "text": [
      "[ 0.39174679 -0.21122391  0.16414842  0.02915478 -0.01832799] [0.6904851  0.4545383  0.72176888 0.80116016 0.46482689] [0.2987383  0.6657622  0.55762046 0.77200538 0.48315488]\n"
     ]
    }
   ],
   "source": [
    "print(rand_matrix[0]- x_mean, rand_matrix[0], x_mean)"
   ]
  },
  {
   "cell_type": "code",
   "execution_count": 9,
   "metadata": {},
   "outputs": [
    {
     "name": "stdout",
     "output_type": "stream",
     "text": [
      "0.22621170970290028\n"
     ]
    }
   ],
   "source": [
    "print(np.sum((rand_matrix[0]-x_mean)* (rand_matrix[0]-x_mean)))"
   ]
  },
  {
   "cell_type": "code",
   "execution_count": 11,
   "metadata": {},
   "outputs": [
    {
     "name": "stdout",
     "output_type": "stream",
     "text": [
      "0.47561718819119675\n"
     ]
    }
   ],
   "source": [
    "dist_bw_2_points = np.sqrt(np.sum((rand_matrix[0]-x_mean)* (rand_matrix[0]-x_mean)))\n",
    "\n",
    "print(dist_bw_2_points)"
   ]
  },
  {
   "cell_type": "code",
   "execution_count": 12,
   "metadata": {},
   "outputs": [
    {
     "data": {
      "text/plain": [
       "0.47561718819119675"
      ]
     },
     "execution_count": 12,
     "metadata": {},
     "output_type": "execute_result"
    }
   ],
   "source": [
    "np.linalg.norm(rand_matrix[0]-x_mean)\n",
    "# this example shows that this formula is the same as the above\n",
    "# in calculating the distance between 2 points"
   ]
  },
  {
   "cell_type": "code",
   "execution_count": 16,
   "metadata": {},
   "outputs": [
    {
     "name": "stdout",
     "output_type": "stream",
     "text": [
      "{'Hans': 'active', '景太郎': 'active'}\n"
     ]
    }
   ],
   "source": [
    "users = {'Hans': 'active', 'Éléonore': 'inactive', '景太郎': 'active'}\n",
    "\n",
    "for key, value in users.copy().items():\n",
    "    if value == 'inactive':\n",
    "        del users[key]\n",
    "        \n",
    "# example of iterating over key and value in a dict\n",
    "        \n",
    "print(users)"
   ]
  },
  {
   "cell_type": "code",
   "execution_count": 40,
   "metadata": {},
   "outputs": [],
   "source": [
    "NUM = 50\n",
    "col1 = np.random.uniform(low=0.5, high=13.3, size=(NUM,))\n",
    "# this creates a random array with set high and low and a given size\n",
    "col2= np.random.uniform(low=20, high=100, size=(NUM,))\n",
    "combined_array = np.vstack((col1, col2)).T\n",
    "# this combile 2 arrays into 2 columns\n"
   ]
  },
  {
   "cell_type": "code",
   "execution_count": 43,
   "metadata": {},
   "outputs": [],
   "source": [
    "min_col = np.min(combined_array, 0)\n",
    "max_col = np.max(combined_array, 0)\n",
    "\n",
    "normed = (combined_array - min_col) / (max_col - min_col)\n",
    "# this normalise all the values column wise\n"
   ]
  },
  {
   "cell_type": "code",
   "execution_count": 44,
   "metadata": {},
   "outputs": [
    {
     "data": {
      "image/png": "[encoded data removed]",
      "text/plain": [
       "<Figure size 432x288 with 1 Axes>"
      ]
     },
     "metadata": {},
     "output_type": "display_data"
    }
   ],
   "source": [
    "x_mean = normed.mean(0)\n",
    "x_std = normed.std(0)\n",
    "# ellipse defines the size of the std with the mean in the centre\n",
    "ellipse = patches.Ellipse(\n",
    "    [x_mean[0], x_mean[1]], \n",
    "    x_std[0]*2, \n",
    "    x_std[1]*2,\n",
    "    alpha=0.5,\n",
    "    facecolor=\"tab:pink\"\n",
    ")\n",
    "\n",
    "fig, graph = plt.subplots()\n",
    "\n",
    "graph.scatter(x_mean[0], x_mean[1], c=\"r\")\n",
    "graph.scatter(normed[:,0], normed[:,1], c='c')\n",
    "graph.add_patch(ellipse)\n",
    "\n",
    "# this plots the graph with the normalised data created\n",
    "\n",
    "plt.show()"
   ]
  },
  {
   "cell_type": "code",
   "execution_count": null,
   "metadata": {},
   "outputs": [],
   "source": []
  }
 ],
 "metadata": {
  "kernelspec": {
   "display_name": "Python 3",
   "language": "python",
   "name": "python3"
  },
  "language_info": {
   "codemirror_mode": {
    "name": "ipython",
    "version": 3
   },
   "file_extension": ".py",
   "mimetype": "text/x-python",
   "name": "python",
   "nbconvert_exporter": "python",
   "pygments_lexer": "ipython3",
   "version": "3.6.3"
  }
 },
 "nbformat": 4,
 "nbformat_minor": 1
}
