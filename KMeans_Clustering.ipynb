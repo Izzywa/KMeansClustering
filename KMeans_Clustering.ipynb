{
 "cells": [
  {
   "cell_type": "code",
   "execution_count": 30,
   "metadata": {},
   "outputs": [
    {
     "name": "stdout",
     "output_type": "stream",
     "text": [
      "Requirement already satisfied: pandas in /Library/Frameworks/Python.framework/Versions/3.12/lib/python3.12/site-packages (2.2.3)\n",
      "Requirement already satisfied: numpy>=1.26.0 in /Library/Frameworks/Python.framework/Versions/3.12/lib/python3.12/site-packages (from pandas) (2.2.1)\n",
      "Requirement already satisfied: python-dateutil>=2.8.2 in /Library/Frameworks/Python.framework/Versions/3.12/lib/python3.12/site-packages (from pandas) (2.9.0.post0)\n",
      "Requirement already satisfied: pytz>=2020.1 in /Library/Frameworks/Python.framework/Versions/3.12/lib/python3.12/site-packages (from pandas) (2024.2)\n",
      "Requirement already satisfied: tzdata>=2022.7 in /Library/Frameworks/Python.framework/Versions/3.12/lib/python3.12/site-packages (from pandas) (2025.1)\n",
      "Requirement already satisfied: six>=1.5 in /Library/Frameworks/Python.framework/Versions/3.12/lib/python3.12/site-packages (from python-dateutil>=2.8.2->pandas) (1.16.0)\n",
      "Requirement already satisfied: scikit-learn in /Library/Frameworks/Python.framework/Versions/3.12/lib/python3.12/site-packages (1.6.1)\n",
      "Requirement already satisfied: numpy>=1.19.5 in /Library/Frameworks/Python.framework/Versions/3.12/lib/python3.12/site-packages (from scikit-learn) (2.2.1)\n",
      "Requirement already satisfied: scipy>=1.6.0 in /Library/Frameworks/Python.framework/Versions/3.12/lib/python3.12/site-packages (from scikit-learn) (1.15.1)\n",
      "Requirement already satisfied: joblib>=1.2.0 in /Library/Frameworks/Python.framework/Versions/3.12/lib/python3.12/site-packages (from scikit-learn) (1.4.2)\n",
      "Requirement already satisfied: threadpoolctl>=3.1.0 in /Library/Frameworks/Python.framework/Versions/3.12/lib/python3.12/site-packages (from scikit-learn) (3.5.0)\n"
     ]
    }
   ],
   "source": [
    "!pip install pandas\n",
    "!pip install scikit-learn\n",
    "\n",
    "import pandas as pd\n",
    "import numpy as np \n",
    "import matplotlib.pyplot as plt\n",
    "from sklearn.cluster import KMeans, Birch\n",
    "from pandas.plotting import table"
   ]
  },
  {
   "cell_type": "code",
   "execution_count": 10,
   "metadata": {},
   "outputs": [
    {
     "data": {
      "text/html": [
       "<div>\n",
       "<style scoped>\n",
       "    .dataframe tbody tr th:only-of-type {\n",
       "        vertical-align: middle;\n",
       "    }\n",
       "\n",
       "    .dataframe tbody tr th {\n",
       "        vertical-align: top;\n",
       "    }\n",
       "\n",
       "    .dataframe thead th {\n",
       "        text-align: right;\n",
       "    }\n",
       "</style>\n",
       "<table border=\"1\" class=\"dataframe\">\n",
       "  <thead>\n",
       "    <tr style=\"text-align: right;\">\n",
       "      <th></th>\n",
       "      <th>id</th>\n",
       "      <th>V1</th>\n",
       "      <th>V2</th>\n",
       "      <th>V3</th>\n",
       "      <th>V4</th>\n",
       "      <th>Class</th>\n",
       "    </tr>\n",
       "  </thead>\n",
       "  <tbody>\n",
       "    <tr>\n",
       "      <th>0</th>\n",
       "      <td>1</td>\n",
       "      <td>3.62160</td>\n",
       "      <td>8.6661</td>\n",
       "      <td>-2.8073</td>\n",
       "      <td>-0.44699</td>\n",
       "      <td>1</td>\n",
       "    </tr>\n",
       "    <tr>\n",
       "      <th>1</th>\n",
       "      <td>2</td>\n",
       "      <td>4.54590</td>\n",
       "      <td>8.1674</td>\n",
       "      <td>-2.4586</td>\n",
       "      <td>-1.46210</td>\n",
       "      <td>1</td>\n",
       "    </tr>\n",
       "    <tr>\n",
       "      <th>2</th>\n",
       "      <td>3</td>\n",
       "      <td>3.86600</td>\n",
       "      <td>-2.6383</td>\n",
       "      <td>1.9242</td>\n",
       "      <td>0.10645</td>\n",
       "      <td>1</td>\n",
       "    </tr>\n",
       "    <tr>\n",
       "      <th>3</th>\n",
       "      <td>4</td>\n",
       "      <td>3.45660</td>\n",
       "      <td>9.5228</td>\n",
       "      <td>-4.0112</td>\n",
       "      <td>-3.59440</td>\n",
       "      <td>1</td>\n",
       "    </tr>\n",
       "    <tr>\n",
       "      <th>4</th>\n",
       "      <td>5</td>\n",
       "      <td>0.32924</td>\n",
       "      <td>-4.4552</td>\n",
       "      <td>4.5718</td>\n",
       "      <td>-0.98880</td>\n",
       "      <td>1</td>\n",
       "    </tr>\n",
       "  </tbody>\n",
       "</table>\n",
       "</div>"
      ],
      "text/plain": [
       "   id       V1      V2      V3       V4  Class\n",
       "0   1  3.62160  8.6661 -2.8073 -0.44699      1\n",
       "1   2  4.54590  8.1674 -2.4586 -1.46210      1\n",
       "2   3  3.86600 -2.6383  1.9242  0.10645      1\n",
       "3   4  3.45660  9.5228 -4.0112 -3.59440      1\n",
       "4   5  0.32924 -4.4552  4.5718 -0.98880      1"
      ]
     },
     "execution_count": 10,
     "metadata": {},
     "output_type": "execute_result"
    }
   ],
   "source": [
    "data = pd.read_csv('project_files/openML_banknote_authentication_dataset.csv')\n",
    "data.head()"
   ]
  },
  {
   "cell_type": "code",
   "execution_count": 16,
   "metadata": {},
   "outputs": [],
   "source": [
    "boxplot_image = plt.figure()\n",
    "boxplot = data.boxplot(column=['V1', 'V2'])\n",
    "plt.title(\"V1 and V2 boxplot\")\n",
    "boxplot_image.savefig(\"images/boxplot_image.png\")\n",
    "plt.close()"
   ]
  },
  {
   "cell_type": "markdown",
   "metadata": {},
   "source": [
    "### This creates a boxplot to detect any outliers from the dataset from the two features V1 and V2"
   ]
  },
  {
   "cell_type": "markdown",
   "metadata": {},
   "source": [
    "### Create an image to save the description of the simplified table"
   ]
  },
  {
   "cell_type": "code",
   "execution_count": 66,
   "metadata": {},
   "outputs": [],
   "source": [
    "# normalise the data\n",
    "normed_data = (data - data.min())/(data.max() - data.min())\n",
    "normed_data.head()\n",
    "# actually correct classing\n",
    "label_name = ['genuine', 'fake']\n",
    "\n",
    "for index, label in enumerate(label_name):\n",
    "    temp = normed_data[ normed_data['Class'] == index ]\n",
    "    plt.scatter(temp['V1'], temp['V2'], label=label, alpha=0.4)\n",
    "    \n",
    "plt.legend(loc=\"lower right\")\n",
    "plt.xlabel('V1')\n",
    "plt.ylabel('V2')\n",
    "plt.title('Banknote authentication correct labels')\n",
    "plt.savefig(\"images/banknote_authentication_correct_labels.png\")\n",
    "plt.close()"
   ]
  },
  {
   "cell_type": "markdown",
   "metadata": {},
   "source": [
    "### Map points from the dataset with labels of the genuine and fake banknotes"
   ]
  },
  {
   "cell_type": "code",
   "execution_count": 69,
   "metadata": {},
   "outputs": [
    {
     "name": "stdout",
     "output_type": "stream",
     "text": [
      "accuracy: 87.09912536443149\n"
     ]
    }
   ],
   "source": [
    "kmeans_res = KMeans(n_clusters=2)\n",
    "cluster_groups = kmeans_res.fit_predict(normed_data[['V1', 'V2']])\n",
    "normed_data['Clusters'] = cluster_groups\n",
    "inaccurate = normed_data[ normed_data['Class'] != normed_data['Clusters'] ]\n",
    "accuracy = (len(normed_data) - len(inaccurate))/(len(normed_data))*100\n",
    "print(f'accuracy: {accuracy}')"
   ]
  },
  {
   "cell_type": "code",
   "execution_count": 135,
   "metadata": {},
   "outputs": [],
   "source": [
    "# plot Kmeans\n",
    "label_name_pred = ['predicted genuine', 'predicted fake']\n",
    "for index, label in enumerate(label_name_pred):\n",
    "    temp = normed_data[ normed_data['Clusters'] == index ]\n",
    "    plt.scatter(temp['V1'], temp['V2'], label=label, alpha=0.4)\n",
    "    \n",
    "plt.legend(loc=\"lower right\")\n",
    "plt.xlabel('V1')\n",
    "plt.ylabel('V2')\n",
    "plt.title(f'Prediction of K-means algorithm')\n",
    "\n",
    "plt.tight_layout()\n",
    "plt.savefig(\"images/Kmeans_prediction.png\")\n",
    "plt.close()"
   ]
  },
  {
   "cell_type": "code",
   "execution_count": 136,
   "metadata": {},
   "outputs": [],
   "source": [
    "# Plot the inaccuracies of kmeans clustering\n",
    "inaccurate_kmean = normed_data[ normed_data['Class'] != normed_data['Clusters'] ]\n",
    "plt.scatter(normed_data['V1'], normed_data['V2'],\n",
    "            alpha=0.4, c=normed_data['Class'], cmap=\"coolwarm\",\n",
    "           label=None)\n",
    "\n",
    "plt.scatter(inaccurate_kmean['V1'], inaccurate_kmean['V2'],\n",
    "            c='c', alpha=0.7, label=\"inaccuracies\")\n",
    "    \n",
    "plt.legend(loc=\"lower right\")\n",
    "plt.xlabel('V1')\n",
    "plt.ylabel('V2')\n",
    "plt.title(f'K-means comparison with actual classification, accuracy: {round(accuracy,2)}%')\n",
    "\n",
    "plt.savefig(\"images/Kmeans_inaccuracies_over_accurate.png\")\n",
    "plt.close()"
   ]
  },
  {
   "cell_type": "code",
   "execution_count": 74,
   "metadata": {},
   "outputs": [],
   "source": [
    "inaccurate_kmean = normed_data[ normed_data['Class'] != normed_data['Clusters'] ]\n",
    "plt.scatter(normed_data['V1'], normed_data['V2'],\n",
    "            alpha=0, c=normed_data['Class'], cmap=\"coolwarm\",\n",
    "           label=None)\n",
    "\n",
    "plt.scatter(inaccurate_kmean['V1'], inaccurate_kmean['V2'],\n",
    "            c='c', alpha=0.7, label=\"inaccuracies\")\n",
    "    \n",
    "plt.legend(loc=\"lower right\")\n",
    "plt.xlabel('V1')\n",
    "plt.ylabel('V2')\n",
    "plt.title('K-means inaccuracies')\n",
    "\n",
    "plt.savefig(\"images/Kmeans_inaccuracies.png\")\n",
    "plt.close()"
   ]
  },
  {
   "cell_type": "code",
   "execution_count": 79,
   "metadata": {},
   "outputs": [
    {
     "name": "stdout",
     "output_type": "stream",
     "text": [
      "accuracy: 57.5801749271137\n"
     ]
    }
   ],
   "source": [
    "curse_of_dimensionality_res = KMeans(n_clusters=2)\n",
    "cluster_groups_curse = curse_of_dimensionality_res.fit_predict(normed_data[['V1', 'V2','V3','V4']])\n",
    "normed_data['Clusters_curse'] = cluster_groups_curse\n",
    "inaccurate_curse = normed_data[ normed_data['Class'] != normed_data['Clusters_curse'] ]\n",
    "accuracy_curse = (len(normed_data) - len(inaccurate_curse))/(len(normed_data))*100\n",
    "print(f'accuracy: {accuracy_curse}')"
   ]
  },
  {
   "cell_type": "code",
   "execution_count": 138,
   "metadata": {},
   "outputs": [],
   "source": [
    "# plot Kmeans with more features\n",
    "for index, label in enumerate(label_name_pred):\n",
    "    temp = normed_data[ normed_data['Clusters_curse'] == index ]\n",
    "    plt.scatter(temp['V1'], temp['V2'], label=label, alpha=0.4)\n",
    "    \n",
    "plt.legend(loc=\"lower right\")\n",
    "plt.xlabel('V1')\n",
    "plt.ylabel('V2')\n",
    "plt.title(f'Prediction of K-means algorithm with 4 features')\n",
    "\n",
    "plt.tight_layout()\n",
    "plt.savefig(\"images/Kmeans_curse_of_dimensionality.png\")\n",
    "plt.close()"
   ]
  },
  {
   "cell_type": "code",
   "execution_count": 140,
   "metadata": {},
   "outputs": [],
   "source": [
    "inaccurate_kmean = normed_data[ normed_data['Class'] != normed_data['Clusters_curse'] ]\n",
    "plt.scatter(normed_data['V1'], normed_data['V2'],\n",
    "            alpha=0.4, c=normed_data['Class'], cmap=\"coolwarm\",\n",
    "           label=None)\n",
    "\n",
    "plt.scatter(inaccurate_kmean['V1'], inaccurate_kmean['V2'],\n",
    "            c='c', alpha=0.7, label=\"inaccuracies\")\n",
    "    \n",
    "plt.legend(loc=\"lower right\")\n",
    "plt.xlabel('V1')\n",
    "plt.ylabel('V2')\n",
    "plt.title(f'K-means with 4 features comparison over actual classifications, accuracy: {round(accuracy_curse,2)}%')\n",
    "\n",
    "plt.savefig(\"images/Kmeans_curse_inaccuracies_comparison.png\")\n",
    "plt.close()"
   ]
  },
  {
   "cell_type": "code",
   "execution_count": 110,
   "metadata": {},
   "outputs": [],
   "source": [
    "plt.scatter(normed_data['V1'], normed_data['V2'],\n",
    "            alpha=0, c=normed_data['Class'], cmap=\"coolwarm\",\n",
    "           label=None)\n",
    "\n",
    "plt.scatter(inaccurate_kmean['V1'], inaccurate_kmean['V2'],\n",
    "            c='c', alpha=0.7, label=\"inaccuracies\")\n",
    "    \n",
    "plt.legend(loc=\"lower right\")\n",
    "plt.xlabel('V1')\n",
    "plt.ylabel('V2')\n",
    "plt.title('K-means with 4 features inaccuracies')\n",
    "\n",
    "plt.savefig(\"images/Kmeans_curse_inaccuracies.png\")\n",
    "plt.close()"
   ]
  },
  {
   "cell_type": "code",
   "execution_count": 115,
   "metadata": {},
   "outputs": [
    {
     "data": {
      "text/html": [
       "<div>\n",
       "<style scoped>\n",
       "    .dataframe tbody tr th:only-of-type {\n",
       "        vertical-align: middle;\n",
       "    }\n",
       "\n",
       "    .dataframe tbody tr th {\n",
       "        vertical-align: top;\n",
       "    }\n",
       "\n",
       "    .dataframe thead th {\n",
       "        text-align: right;\n",
       "    }\n",
       "</style>\n",
       "<table border=\"1\" class=\"dataframe\">\n",
       "  <thead>\n",
       "    <tr style=\"text-align: right;\">\n",
       "      <th></th>\n",
       "      <th>V1</th>\n",
       "      <th>V2</th>\n",
       "    </tr>\n",
       "  </thead>\n",
       "  <tbody>\n",
       "    <tr>\n",
       "      <th>0</th>\n",
       "      <td>0.769004</td>\n",
       "      <td>0.839643</td>\n",
       "    </tr>\n",
       "    <tr>\n",
       "      <th>1</th>\n",
       "      <td>0.835659</td>\n",
       "      <td>0.820982</td>\n",
       "    </tr>\n",
       "    <tr>\n",
       "      <th>2</th>\n",
       "      <td>0.786629</td>\n",
       "      <td>0.416648</td>\n",
       "    </tr>\n",
       "    <tr>\n",
       "      <th>3</th>\n",
       "      <td>0.757105</td>\n",
       "      <td>0.871699</td>\n",
       "    </tr>\n",
       "    <tr>\n",
       "      <th>4</th>\n",
       "      <td>0.531578</td>\n",
       "      <td>0.348662</td>\n",
       "    </tr>\n",
       "  </tbody>\n",
       "</table>\n",
       "</div>"
      ],
      "text/plain": [
       "         V1        V2\n",
       "0  0.769004  0.839643\n",
       "1  0.835659  0.820982\n",
       "2  0.786629  0.416648\n",
       "3  0.757105  0.871699\n",
       "4  0.531578  0.348662"
      ]
     },
     "execution_count": 115,
     "metadata": {},
     "output_type": "execute_result"
    }
   ],
   "source": [
    "# KNearest Neighbour\n",
    "from sklearn.model_selection import train_test_split\n",
    "from sklearn.neighbors import KNeighborsClassifier\n",
    "# create a dataframe with all training data except the target column\n",
    "X = normed_data.drop(columns=['Class', 'Clusters', 'Clusters_curse', 'V3','V4','id'])\n",
    "X.head()"
   ]
  },
  {
   "cell_type": "code",
   "execution_count": 116,
   "metadata": {},
   "outputs": [],
   "source": [
    "# insert the training column into another variable\n",
    "y = normed_data['Class'].values\n",
    "# split dataset into train and test data\n",
    "X_train, X_test, y_train, y_test = train_test_split(X, y, \n",
    "                                                    test_size=0.2,\n",
    "                                                   random_state=1,\n",
    "                                                   stratify=y)"
   ]
  },
  {
   "cell_type": "code",
   "execution_count": 117,
   "metadata": {},
   "outputs": [
    {
     "data": {
      "text/plain": [
       "0.9236363636363636"
      ]
     },
     "execution_count": 117,
     "metadata": {},
     "output_type": "execute_result"
    }
   ],
   "source": [
    "knn = KNeighborsClassifier(n_neighbors = 2)\n",
    "\n",
    "#fit the classfier to the data\n",
    "knn.fit(X_train, y_train)\n",
    "\n",
    "#show first 5 model predictions on the test data\n",
    "knn_res = knn.predict(X_test)\n",
    "# check accuracy of the model on the test data\n",
    "knn.score(X_test, y_test)"
   ]
  },
  {
   "cell_type": "markdown",
   "metadata": {},
   "source": [
    "split the dataset into training and testing data\n",
    "- the training data is the data the model will learn from\n",
    "- the testing data will be used to see how well the model performs on unseen data\n",
    "\n",
    "test_size=0.2\n",
    "- this means that 20% of all data will be used for testing\n",
    "- the rest 80% will be used for training data for the model to learn from\n",
    "\n",
    "random_state=1\n",
    "- ensure will get the same split each time so we can reproduce our results\n",
    "\n",
    "stratify=y\n",
    "- make sure the training split represent the proportion of each value in the y variable\n",
    "- if in the datasest 25% genuine and 75% fake: \n",
    "    - stratify = y will insure that the random split has 25% genuine and 75% fake\n",
    "\n",
    "neighbors = 3: \n",
    "- if 2/3 are fake, then new data point will be labeled as genuine.\n",
    "the new data point is labeled with by majority from the 3 nearest points"
   ]
  },
  {
   "cell_type": "code",
   "execution_count": 141,
   "metadata": {},
   "outputs": [],
   "source": [
    "dropped_col = normed_data.drop(columns=['Class', 'Clusters', 'Clusters_curse','V3','V4','id'])\n",
    "test = normed_data.copy()\n",
    "test['KNN'] = knn.predict(dropped_col)\n",
    "\n",
    "for index, label in enumerate(label_name_pred):\n",
    "    temp = test[ test['KNN'] == index ]\n",
    "    plt.scatter(temp['V1'], temp['V2'], label=label, alpha=0.4)\n",
    "\n",
    "    \n",
    "knn_accuracy = knn.score(X_test, y_test)*100\n",
    "    \n",
    "plt.legend()\n",
    "plt.xlabel('V1')\n",
    "plt.ylabel('V2')\n",
    "plt.title(f'Prediction of KNN')\n",
    "plt.savefig(\"images/KNN_prediction.png\")\n",
    "\n",
    "plt.tight_layout()\n",
    "plt.close()"
   ]
  },
  {
   "cell_type": "code",
   "execution_count": 142,
   "metadata": {},
   "outputs": [],
   "source": [
    "inaccurate_knn = test[ test['Class'] != test['KNN'] ]\n",
    "plt.scatter(normed_data['V1'], normed_data['V2'],\n",
    "            alpha=0.4, c=normed_data['Class'], cmap=\"coolwarm\",\n",
    "           label=None)\n",
    "\n",
    "plt.scatter(inaccurate_knn['V1'], inaccurate_knn['V2'],\n",
    "            c='c', alpha=0.7, label=\"inaccuracies\")\n",
    "    \n",
    "plt.legend(loc=\"lower right\")\n",
    "plt.xlabel('V1')\n",
    "plt.ylabel('V2')\n",
    "plt.title(f'KNN comparison with actual classification, accuracy: {round(knn_accuracy,2)}%')\n",
    "plt.savefig(\"images/KNN_inaccuracies_comparison.png\")\n",
    "plt.close()"
   ]
  },
  {
   "cell_type": "code",
   "execution_count": 125,
   "metadata": {},
   "outputs": [],
   "source": [
    "plt.scatter(normed_data['V1'], normed_data['V2'],\n",
    "            alpha=0, c=normed_data['Class'], cmap=\"coolwarm\",\n",
    "           label=None)\n",
    "\n",
    "plt.scatter(inaccurate_knn['V1'], inaccurate_knn['V2'],\n",
    "            c='c', alpha=0.7, label=\"inaccuracies\")\n",
    "    \n",
    "plt.legend(loc=\"lower right\")\n",
    "plt.xlabel('V1')\n",
    "plt.ylabel('V2')\n",
    "plt.title('KNN inaccuracies')\n",
    "plt.savefig(\"images/KNN_inaccuracies.png\")\n",
    "plt.close()"
   ]
  },
  {
   "cell_type": "code",
   "execution_count": 151,
   "metadata": {},
   "outputs": [
    {
     "data": {
      "text/plain": [
       "1.0"
      ]
     },
     "execution_count": 151,
     "metadata": {},
     "output_type": "execute_result"
    }
   ],
   "source": [
    "# KNN with more features\n",
    "# create a dataframe with all training data except the target column\n",
    "X_more = normed_data.drop(columns=['Class', 'Clusters', 'Clusters_curse','id'])\n",
    "# insert the training column into another variable\n",
    "y_more = normed_data['Class'].values\n",
    "# split dataset into train and test data\n",
    "X_more_train, X_more_test, y_more_train, y_more_test = train_test_split(X_more, y_more, \n",
    "                                                    test_size=0.2,\n",
    "                                                   random_state=1,\n",
    "                                                   stratify=y_more)\n",
    "knn_more = KNeighborsClassifier(n_neighbors = 2)\n",
    "\n",
    "#fit the classfier to the data\n",
    "knn_more.fit(X_more_train, y_more_train)\n",
    "\n",
    "#show first 5 model predictions on the test data\n",
    "knn_more_res = knn_more.predict(X_more_test)\n",
    "# check accuracy of the model on the test data\n",
    "knn_more.score(X_more_test, y_more_test)"
   ]
  },
  {
   "cell_type": "code",
   "execution_count": 153,
   "metadata": {},
   "outputs": [],
   "source": [
    "dropped_col_less = normed_data.drop(columns=['Class', 'Clusters', 'Clusters_curse','id'])\n",
    "test['KNN_more'] = knn_more.predict(dropped_col_less)\n",
    "\n",
    "for index, label in enumerate(label_name_pred):\n",
    "    temp = test[ test['KNN_more'] == index ]\n",
    "    plt.scatter(temp['V1'], temp['V2'], label=label, alpha=0.4)\n",
    "\n",
    "    \n",
    "knn_more_accuracy = knn_more.score(X_more_test, y_more_test)*100\n",
    "    \n",
    "plt.legend()\n",
    "plt.xlabel('V1')\n",
    "plt.ylabel('V2')\n",
    "plt.title(f'Prediction of KNN with 4 features')\n",
    "plt.tight_layout()\n",
    "plt.savefig('images/KNN_4_features_prediction.png')\n",
    "plt.close()"
   ]
  },
  {
   "cell_type": "code",
   "execution_count": 154,
   "metadata": {},
   "outputs": [],
   "source": [
    "inaccurate_knn_more = test[ test['Class'] != test['KNN_more'] ]\n",
    "plt.scatter(normed_data['V1'], normed_data['V2'],\n",
    "            alpha=0.4, c=normed_data['Class'], cmap=\"coolwarm\",\n",
    "           label=None)\n",
    "\n",
    "plt.scatter(inaccurate_knn_more['V1'], inaccurate_knn_more['V2'],\n",
    "            c='c', alpha=0.7, label=\"inaccuracies\")\n",
    "    \n",
    "plt.legend(loc=\"lower right\")\n",
    "plt.xlabel('V1')\n",
    "plt.ylabel('V2')\n",
    "plt.title(f'KNN 4 features comparison with actual classification, accuracy: {round(knn_more_accuracy,2)}%')\n",
    "plt.savefig('images/KNN_4_features_inaccuracies_comparison.png')\n",
    "plt.close()"
   ]
  },
  {
   "cell_type": "code",
   "execution_count": 155,
   "metadata": {},
   "outputs": [],
   "source": [
    "plt.scatter(normed_data['V1'], normed_data['V2'],\n",
    "            alpha=0, c=normed_data['Class'], cmap=\"coolwarm\",\n",
    "           label=None)\n",
    "\n",
    "plt.scatter(inaccurate_knn_more['V1'], inaccurate_knn_more['V2'],\n",
    "            c='c', alpha=0.7, label=\"inaccuracies\")\n",
    "    \n",
    "plt.legend(loc=\"lower right\")\n",
    "plt.xlabel('V1')\n",
    "plt.ylabel('V2')\n",
    "plt.title('KNN 4 features inaccuracies')\n",
    "plt.savefig('images/KNN_4_features_inaccuracies.png')\n",
    "plt.close()"
   ]
  },
  {
   "cell_type": "code",
   "execution_count": null,
   "metadata": {},
   "outputs": [],
   "source": []
  }
 ],
 "metadata": {
  "kernelspec": {
   "display_name": "Python 3",
   "language": "python",
   "name": "python3"
  },
  "language_info": {
   "codemirror_mode": {
    "name": "ipython",
    "version": 3
   },
   "file_extension": ".py",
   "mimetype": "text/x-python",
   "name": "python",
   "nbconvert_exporter": "python",
   "pygments_lexer": "ipython3",
   "version": "3.12.1"
  }
 },
 "nbformat": 4,
 "nbformat_minor": 2
}
